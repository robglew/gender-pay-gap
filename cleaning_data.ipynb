{
 "cells": [
  {
   "cell_type": "code",
   "id": "initial_id",
   "metadata": {
    "collapsed": true,
    "ExecuteTime": {
     "end_time": "2025-08-30T17:47:40.403196Z",
     "start_time": "2025-08-30T17:47:39.742865Z"
    }
   },
   "source": "import pandas as pd",
   "outputs": [],
   "execution_count": 1
  },
  {
   "metadata": {
    "ExecuteTime": {
     "end_time": "2025-08-30T17:48:27.457286Z",
     "start_time": "2025-08-30T17:48:27.435214Z"
    }
   },
   "cell_type": "code",
   "source": "df = pd.read_csv('data/pay.csv')",
   "id": "238d43538afdc574",
   "outputs": [],
   "execution_count": 3
  },
  {
   "metadata": {
    "ExecuteTime": {
     "end_time": "2025-08-30T17:48:28.021560Z",
     "start_time": "2025-08-30T17:48:28.015212Z"
    }
   },
   "cell_type": "code",
   "source": "df.columns",
   "id": "ee24e7122faf19ec",
   "outputs": [
    {
     "data": {
      "text/plain": [
       "Index(['JobTitle', 'Gender', 'Age', 'PerfEval', 'Education', 'Dept',\n",
       "       'Seniority', 'BasePay', 'Bonus'],\n",
       "      dtype='object')"
      ]
     },
     "execution_count": 4,
     "metadata": {},
     "output_type": "execute_result"
    }
   ],
   "execution_count": 4
  },
  {
   "metadata": {
    "ExecuteTime": {
     "end_time": "2025-08-30T17:49:21.773340Z",
     "start_time": "2025-08-30T17:49:21.765681Z"
    }
   },
   "cell_type": "code",
   "source": "df.columns = df.columns.str.lower()\n",
   "id": "a1e7520141b351b8",
   "outputs": [],
   "execution_count": 5
  },
  {
   "metadata": {
    "ExecuteTime": {
     "end_time": "2025-08-30T17:49:32.516713Z",
     "start_time": "2025-08-30T17:49:32.498449Z"
    }
   },
   "cell_type": "code",
   "source": "df.to_csv('data/data.csv')",
   "id": "da09913a4ee7ce09",
   "outputs": [],
   "execution_count": 6
  },
  {
   "metadata": {},
   "cell_type": "code",
   "outputs": [],
   "execution_count": null,
   "source": "",
   "id": "234ac97135b4ef6"
  }
 ],
 "metadata": {
  "kernelspec": {
   "display_name": "Python 3",
   "language": "python",
   "name": "python3"
  },
  "language_info": {
   "codemirror_mode": {
    "name": "ipython",
    "version": 2
   },
   "file_extension": ".py",
   "mimetype": "text/x-python",
   "name": "python",
   "nbconvert_exporter": "python",
   "pygments_lexer": "ipython2",
   "version": "2.7.6"
  }
 },
 "nbformat": 4,
 "nbformat_minor": 5
}
